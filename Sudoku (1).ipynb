{
 "cells": [
  {
   "cell_type": "code",
   "execution_count": null,
   "metadata": {},
   "outputs": [],
   "source": [
    "def notInRow(arr, row):\n",
    "\n",
    "    st = set()\n",
    "\n",
    "    for i in range(0, 9):\n",
    "\n",
    "        if arr[row][i] in st:\n",
    "            return False\n",
    "\n",
    "        if arr[row][i] != '.':\n",
    "            st.add(arr[row][i])\n",
    "\n",
    "    return True\n",
    "\n",
    "def notInCol(arr, col):\n",
    "\n",
    "    st = set()\n",
    "\n",
    "    for i in range(0, 9):\n",
    "\n",
    "        if arr[i][col] in st:\n",
    "            return False\n",
    "\n",
    "        if arr[i][col] != '.':\n",
    "            st.add(arr[i][col])\n",
    "\n",
    "    return True\n",
    "\n",
    "def notInBox(arr, startRow, startCol):\n",
    "\n",
    "    st = set()\n",
    "\n",
    "    for row in range(0, 3):\n",
    "        for col in range(0, 3):\n",
    "            curr = arr[row + startRow][col + startCol]\n",
    "\n",
    "            if curr in st:\n",
    "                return False\n",
    "\n",
    "            if curr != '.':\n",
    "                st.add(curr)\n",
    "\n",
    "    return True\n",
    "\n",
    "def isValid(arr, row, col):\n",
    "\n",
    "    return (notInRow(arr, row) and notInCol(arr, col) and\n",
    "            notInBox(arr, row - row % 3, col - col % 3))\n",
    "\n",
    "def isValidConfig(arr, n):\n",
    "\n",
    "    for i in range(0, n):\n",
    "        for j in range(0, n):\n",
    "\n",
    "            if not isValid(arr, i, j):\n",
    "                return False\n",
    "\n",
    "    return True\n"
   ]
  },
  {
   "cell_type": "code",
   "execution_count": null,
   "metadata": {},
   "outputs": [],
   "source": [
    "board=[['.', '.', '.', '.', '.', '.', '.', '.', '.'],\n",
    " ['.', '.', '.', '.', '.', '.', '.', '.', '.'],\n",
    " ['.', '.', '.', '.', '.', '.', '.', '.', '.'],\n",
    " ['.', '.', '.', '.', '.', '.', '.', '.', '.'],\n",
    " ['.', '.', '.', '.', '.', '.', '.', '.', '.'],\n",
    " ['.', '.', '.', '.', '.', '.', '.', '.', '.'],\n",
    " ['.', '.', '.', '.', '.', '.', '.', '.', '.'],\n",
    " ['.', '.', '.', '.', '.', '.', '.', '.', '.'],\n",
    " ['.', '.', '.', '.', '.', '.', '.', '.', '.']]\n",
    "#board"
   ]
  },
  {
   "cell_type": "code",
   "execution_count": null,
   "metadata": {},
   "outputs": [],
   "source": []
  },
  {
   "cell_type": "code",
   "execution_count": null,
   "metadata": {},
   "outputs": [],
   "source": []
  }
 ],
 "metadata": {
  "kernelspec": {
   "display_name": "Python 3",
   "language": "python",
   "name": "python3"
  },
  "language_info": {
   "codemirror_mode": {
    "name": "ipython",
    "version": 3
   },
   "file_extension": ".py",
   "mimetype": "text/x-python",
   "name": "python",
   "nbconvert_exporter": "python",
   "pygments_lexer": "ipython3",
   "version": "3.7.6"
  }
 },
 "nbformat": 4,
 "nbformat_minor": 4
}
